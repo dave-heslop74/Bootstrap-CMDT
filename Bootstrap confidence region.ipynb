{
 "cells": [
  {
   "cell_type": "markdown",
   "metadata": {},
   "source": [
    "## D. Heslop, J. L. Scealy, A. T. A. Wood, L. Tauxe and A. P. Roberts (2023). A bootstrap common mean direction test. Journal of Geophysical Research.\n",
    "### Example estimation of bootstrap confidence region for a mean direction (see Section 2 of manuscript) using the normal polarity directions of MacFadden et al. (1990).\n",
    "\n",
    "Please note that because this is a numerical procedure the results may differ slightly from those in the paper."
   ]
  },
  {
   "cell_type": "markdown",
   "metadata": {},
   "source": [
    "#### Import required libraries"
   ]
  },
  {
   "cell_type": "code",
   "execution_count": 1,
   "metadata": {},
   "outputs": [
    {
     "name": "stdout",
     "output_type": "stream",
     "text": [
      "-W- cartopy is not installed\n",
      "    If you want to make maps, install using conda:\n",
      "    conda install cartopy\n",
      "-W- You haven't installed a module for plotting maps (cartopy or Basemap)\n",
      "    Recommended: install cartopy.  With conda:\n",
      "    conda install cartopy\n",
      "    For more information, see http://earthref.org/PmagPy/Cookbook#getting_python\n"
     ]
    }
   ],
   "source": [
    "import pmagpy.pmag as pmag\n",
    "import pmagpy.ipmag as ipmag\n",
    "import numpy as np\n",
    "import pandas as pd"
   ]
  },
  {
   "cell_type": "markdown",
   "metadata": {},
   "source": [
    "#### Function ```form_Mhat``` estimates $\\hat{M}$ according to equation (4)"
   ]
  },
  {
   "cell_type": "code",
   "execution_count": 2,
   "metadata": {},
   "outputs": [],
   "source": [
    "def form_Mhat(mhat):\n",
    "    \n",
    "    #input - mhat, estimated sample mean direction\n",
    "    #output - Mhat matrix according to equation 4\n",
    "    \n",
    "    b = np.matrix(mhat[0:2][:,np.newaxis])\n",
    "    c = mhat[2]\n",
    "    \n",
    "    if c==0:\n",
    "        A1 = np.eye(2)-(b*b.getH())\n",
    "    else:\n",
    "        A1 = c/np.abs(c)*np.eye(2)-c/(np.abs(c)+np.abs(c)**2)*(b*b.getH())\n",
    "        \n",
    "    A2 = -b\n",
    "    Mhat = np.hstack((A1,A2))\n",
    "    return Mhat"
   ]
  },
  {
   "cell_type": "markdown",
   "metadata": {},
   "source": [
    "#### Function ```form_Ghat``` estimates $\\hat{G}$ according to equation (5)"
   ]
  },
  {
   "cell_type": "code",
   "execution_count": 3,
   "metadata": {},
   "outputs": [],
   "source": [
    "def form_Ghat(X,Mhat):\n",
    "    \n",
    "    #input - X, collection of directions (one per column)\n",
    "    #input - Mhat, Mhat matrix for mean direction\n",
    "    #output - Ghat matrix according to equation 5\n",
    "\n",
    "    n = np.shape(X)[1]\n",
    "    term1 = np.power(np.linalg.norm(np.sum(X,axis=1)/n),-2)/n\n",
    "    X = np.matrix(X)\n",
    "    Mhat_T = Mhat.getT()\n",
    "    Ghat = np.matrix(np.zeros((2,2)))\n",
    "    \n",
    "    for u in range(2):\n",
    "        for v in range(2):\n",
    "            for i in range(n):\n",
    "                Ghat[u,v] += Mhat_T[:,u].getT()*X[:,i]*X[:,i].getT()*Mhat_T[:,v]\n",
    "            Ghat[u,v] *= term1\n",
    "    \n",
    "    return Ghat"
   ]
  },
  {
   "cell_type": "markdown",
   "metadata": {},
   "source": [
    "#### Function ```find_T``` estimates $T$ according to equation (6)"
   ]
  },
  {
   "cell_type": "code",
   "execution_count": 4,
   "metadata": {},
   "outputs": [],
   "source": [
    "def find_T(m,n,Mhat,Ghat):\n",
    "    \n",
    "    #input - m, direction under consideration\n",
    "    #input - n, number of observations\n",
    "    #input - Mhat, Mhat matrix for mean direction\n",
    "    #input - Ghat matrix representing covariance\n",
    "    #output - T value estimated from Equation 6\n",
    "    \n",
    "    m = np.matrix(m[:,np.newaxis])\n",
    "    \n",
    "    return np.array(n*m.getT()*Mhat.getT()*np.linalg.inv(Ghat)*Mhat*m)    "
   ]
  },
  {
   "cell_type": "markdown",
   "metadata": {},
   "source": [
    "#### Function ```find_CR``` calculates points along the boundary of the confidence region as described in Appendix A "
   ]
  },
  {
   "cell_type": "code",
   "execution_count": 5,
   "metadata": {},
   "outputs": [],
   "source": [
    "def find_CR(mhat,Mhat,Ghat,n,Tc):\n",
    "    \n",
    "    #input - mhat, mean direction of original data set\n",
    "    #input - Mhat, Mhat matrix for mean direction\n",
    "    #input - Ghat, matrix representing covariance\n",
    "    #input - n, number of observations\n",
    "    #input - Tc, critical T value on confidence region boundary\n",
    "    #output - mCI, closed confidence region boundary\n",
    "    \n",
    "    C = n*Mhat.getT()*np.linalg.inv(Ghat)*Mhat\n",
    "    [D,V] = np.linalg.eig(C)\n",
    "    \n",
    "    idx=np.flip(np.argsort(D))\n",
    "    D = D[idx]\n",
    "    V = V[:,idx]\n",
    "    \n",
    "    mCI = np.zeros((3,201))\n",
    "    y = np.matrix(np.zeros((3,1)))\n",
    "    for i in range(201):\n",
    "            theta = i*np.pi/100\n",
    "            y[0] = np.cos(theta)*np.sqrt(Tc)/np.sqrt(D[0])\n",
    "            y[1] = np.sin(theta)*np.sqrt(Tc)/np.sqrt(D[1])\n",
    "            y[2] = np.sqrt(1-y[0]**2-y[1]**2)\n",
    "            mCI[:,i] = np.ndarray.flatten(V*y)\n",
    "    \n",
    "    mCIbar = np.mean(mCI,axis=1)/np.linalg.norm(np.mean(mCI,axis=1))\n",
    "    if np.arctan2(np.linalg.norm(np.cross(mhat,mCIbar)),np.dot(mhat,mCIbar))>np.pi/2:\n",
    "        mCI *= -1\n",
    "        \n",
    "    return mCI"
   ]
  },
  {
   "cell_type": "markdown",
   "metadata": {},
   "source": [
    "#### Import the normal polarity directions from MacFadden et al. (1990) and transform to Cartesian coordinates (1 direction per column). \n",
    "\n",
    "#### Then estimate the mean direction via equation (3)."
   ]
  },
  {
   "cell_type": "code",
   "execution_count": 6,
   "metadata": {},
   "outputs": [],
   "source": [
    "file = \"MacFadden_normal.csv\" #normal polarity directions of MacFadden et al. (1990)\n",
    "DI = pd.read_csv(file,header=None).to_numpy()\n",
    "X = np.transpose(pmag.dir2cart(DI))\n",
    "n = np.shape(X)[1] #number of directions\n",
    "mhat = np.mean(X,axis=1)\n",
    "mhat /= np.linalg.norm(mhat) #estimate mean direction"
   ]
  },
  {
   "cell_type": "markdown",
   "metadata": {},
   "source": [
    "### Main bootstrap sequence"
   ]
  },
  {
   "cell_type": "code",
   "execution_count": 7,
   "metadata": {},
   "outputs": [
    {
     "name": "stdout",
     "output_type": "stream",
     "text": [
      "Critical T value = 8.32\n"
     ]
    }
   ],
   "source": [
    "B = 10000 #number of bootstrap iterations\n",
    "T_b = np.zeros(B) #predefine output array for bootstrapped T values\n",
    "\n",
    "for i in range(B): #loop through boostrap iterations\n",
    "    idx = np.random.randint(0,n,n) #select observation indicies with replacement\n",
    "    X_b = X[:,idx] #form bootstrap sample\n",
    "    mhat_b = np.mean(X_b,axis=1) #mean direction of bootstrap sample\n",
    "    mhat_b /= np.linalg.norm(mhat_b)\n",
    "    Mhat_b = form_Mhat(mhat_b) #\\hat{M} for bootstrap sample\n",
    "    Ghat_b = form_Ghat(X_b,Mhat_b) #\\hat{G} for bootstrap sample\n",
    "    T_b[i] = find_T(mhat,n,Mhat_b,Ghat_b) #T for bootstrap sample\n",
    "    \n",
    "alpha = 0.05 #work with 95% confidence region\n",
    "Tc = np.quantile(T_b,1-alpha) #find 1-alpha quantile of T\n",
    "print(\"Critical T value = {:.2f}\".format(Tc))"
   ]
  },
  {
   "cell_type": "markdown",
   "metadata": {},
   "source": [
    "#### Calculate the 95% confidence region"
   ]
  },
  {
   "cell_type": "code",
   "execution_count": 8,
   "metadata": {},
   "outputs": [],
   "source": [
    "Mhat = form_Mhat(mhat)\n",
    "Ghat = form_Ghat(X,Mhat)\n",
    "Xc = find_CR(mhat,Mhat,Ghat,n,Tc) #calculate points along boundary of 95% confidence region\n",
    "DIc = pmag.cart2dir(np.transpose(Xc)) #convert to dec and inc for plotting "
   ]
  },
  {
   "cell_type": "markdown",
   "metadata": {},
   "source": [
    "#### Plot the 95% confidence region (compare to manuscript Figure 2)"
   ]
  },
  {
   "cell_type": "code",
   "execution_count": 9,
   "metadata": {},
   "outputs": [
    {
     "data": {
      "image/png": "[encoded data removed]",
      "text/plain": [
       "<Figure size 432x288 with 1 Axes>"
      ]
     },
     "metadata": {
      "needs_background": "light"
     },
     "output_type": "display_data"
    }
   ],
   "source": [
    "ipmag.plot_net(1)\n",
    "ipmag.plot_di(dec=DI[:,0],inc=DI[:,1],color='black',edge='black')\n",
    "ipmag.plot_di(di_block=DIc,color='black',edge='black',marker='.',markersize=4)"
   ]
  },
  {
   "cell_type": "markdown",
   "metadata": {},
   "source": [
    "#### Test if any known point is inside 95% confidence region\n",
    "If ```T0 < = Tc``` point is inside confidence region\n",
    "\n",
    "If ```T0 > Tc``` point is outside confidence region\n",
    "\n",
    "As an example case, choose a point on the 95% confidence region boundary and check that it returns ```Tc``` as calculated above."
   ]
  },
  {
   "cell_type": "code",
   "execution_count": 10,
   "metadata": {},
   "outputs": [
    {
     "name": "stdout",
     "output_type": "stream",
     "text": [
      "New point T value = 8.32\n"
     ]
    }
   ],
   "source": [
    "T0 = find_T(Xc[:,0],n,Mhat,Ghat)\n",
    "print(\"New point T value = {:.2f}\".format(np.squeeze(T0)))"
   ]
  }
 ],
 "metadata": {
  "kernelspec": {
   "display_name": "Python 3",
   "language": "python",
   "name": "python3"
  },
  "language_info": {
   "codemirror_mode": {
    "name": "ipython",
    "version": 3
   },
   "file_extension": ".py",
   "mimetype": "text/x-python",
   "name": "python",
   "nbconvert_exporter": "python",
   "pygments_lexer": "ipython3",
   "version": "3.8.3"
  }
 },
 "nbformat": 4,
 "nbformat_minor": 2
}
