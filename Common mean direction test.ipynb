{
 "cells": [
  {
   "cell_type": "markdown",
   "metadata": {},
   "source": [
    "## D. Heslop, J. L. Scealy, A. T. A. Wood, L. Tauxe and A. P. Roberts (2023). A bootstrap common mean direction test. Journal of Geophysical Research.\n",
    "### Example common mean direction test (see Section 3 of manuscript) performed on the data of Ao et al. (2013).\n",
    "\n",
    "Please note that because this is a numerical procedure the results may differ slightly from those in the paper."
   ]
  },
  {
   "cell_type": "markdown",
   "metadata": {},
   "source": [
    "#### Import required libraries"
   ]
  },
  {
   "cell_type": "code",
   "execution_count": 1,
   "metadata": {},
   "outputs": [
    {
     "name": "stdout",
     "output_type": "stream",
     "text": [
      "-W- cartopy is not installed\n",
      "    If you want to make maps, install using conda:\n",
      "    conda install cartopy\n",
      "-W- You haven't installed a module for plotting maps (cartopy or Basemap)\n",
      "    Recommended: install cartopy.  With conda:\n",
      "    conda install cartopy\n",
      "    For more information, see http://earthref.org/PmagPy/Cookbook#getting_python\n"
     ]
    }
   ],
   "source": [
    "import pmagpy.ipmag as ipmag\n",
    "import pmagpy.pmag as pmag\n",
    "import numpy as np\n",
    "import pandas as pd\n",
    "import matplotlib.pyplot as plt"
   ]
  },
  {
   "cell_type": "markdown",
   "metadata": {},
   "source": [
    "#### Function ```form_Mhat``` estimates $\\hat{M}$ according to equation (4)"
   ]
  },
  {
   "cell_type": "code",
   "execution_count": 2,
   "metadata": {},
   "outputs": [],
   "source": [
    "def form_Mhat(mhat):\n",
    "    \n",
    "    #input - mhat, estimated sample mean direction\n",
    "    #output - Mhat matrix according to equation 4\n",
    "    \n",
    "    b = np.matrix(mhat[0:2][:,np.newaxis])\n",
    "    c = mhat[2]\n",
    "    \n",
    "    if c==0:\n",
    "        A1 = np.eye(2)-(b*b.getH())\n",
    "    else:\n",
    "        A1 = c/np.abs(c)*np.eye(2)-c/(np.abs(c)+np.abs(c)**2)*(b*b.getH())\n",
    "        \n",
    "    A2 = -b\n",
    "    Mhat = np.hstack((A1,A2))\n",
    "    return Mhat"
   ]
  },
  {
   "cell_type": "markdown",
   "metadata": {},
   "source": [
    "#### Function ```form_Ghat``` estimates $\\hat{G}$ according to equation (5)"
   ]
  },
  {
   "cell_type": "code",
   "execution_count": 3,
   "metadata": {},
   "outputs": [],
   "source": [
    "def form_Ghat(X,Mhat):\n",
    "    \n",
    "    #input - X, collection of directions (one per column)\n",
    "    #input - Mhat, Mhat matrix for mean direction\n",
    "    #output - Ghat matrix according to equation 5\n",
    "\n",
    "    n = np.shape(X)[1]\n",
    "    term1 = np.power(np.linalg.norm(np.sum(X,axis=1)/n),-2)/n\n",
    "    X = np.matrix(X)\n",
    "    Mhat_T = Mhat.getT()\n",
    "    Ghat = np.matrix(np.zeros((2,2)))\n",
    "    \n",
    "    for u in range(2):\n",
    "        for v in range(2):\n",
    "            for i in range(n):\n",
    "                Ghat[u,v] += Mhat_T[:,u].getT()*X[:,i]*X[:,i].getT()*Mhat_T[:,v]\n",
    "            Ghat[u,v] *= term1\n",
    "    \n",
    "    return Ghat"
   ]
  },
  {
   "cell_type": "markdown",
   "metadata": {},
   "source": [
    "#### Function ```form_Q``` creates rotation matrix to rotation ```b``` to ```a``` according to equations (9) and (10)"
   ]
  },
  {
   "cell_type": "code",
   "execution_count": 4,
   "metadata": {},
   "outputs": [],
   "source": [
    "def form_Q(a,b):\n",
    "    \n",
    "    #input - a, destination direction (unit vector)\n",
    "    #input - b, starting direction (unit vector)\n",
    "    #output - Q, rotation matrix so Qb = a\n",
    "    \n",
    "    a = np.matrix(a)\n",
    "    a = np.reshape(a,(3,1))\n",
    "    b = np.matrix(b)\n",
    "    b = np.reshape(b,(3,1))\n",
    "\n",
    "    c = b-a*(a.getT()*b)\n",
    "    c /= np.linalg.norm(c)\n",
    "\n",
    "    alpha = np.arccos(a.getT()*b)\n",
    "    A = a*c.getT()-c*a.getT()\n",
    "\n",
    "    Q = np.eye(3)+np.multiply(np.sin(alpha),A)+np.multiply(np.cos(alpha)-1,a*a.getT()+c*c.getT())\n",
    "    \n",
    "    return Q"
   ]
  },
  {
   "cell_type": "markdown",
   "metadata": {},
   "source": [
    "#### Function ```find_CMDT_CR``` provides a collection of points on the boundary of the 1-$\\alpha$ confidence region for the common mean direction according to the procedure in Appendix B.\n",
    "\n",
    "N.b. ```find_CMDT_CR``` should only be used if null hypothesis of common mean direction cannot be rejected"
   ]
  },
  {
   "cell_type": "code",
   "execution_count": 5,
   "metadata": {},
   "outputs": [],
   "source": [
    "def find_CMDT_CR(Ahat,Tc,mhat12):\n",
    "    \n",
    "    #Ahat - combined covariance matrix\n",
    "    #input - Tc, T value on the boundary of the confidence region\n",
    "    #input - mhat12, estimated common mean direction\n",
    "    #output - mCI, sequence of points along confidence region\n",
    "    \n",
    "    [D,V] = np.linalg.eig(Ahat)\n",
    "    \n",
    "    idx=np.flip(np.argsort(D))\n",
    "    D = D[idx]\n",
    "    V = V[:,idx]\n",
    "        \n",
    "    mCI = np.zeros((3,201))\n",
    "    y = np.matrix(np.zeros((3,1)))\n",
    "    for i in range(201):\n",
    "            theta = i*np.pi/100\n",
    "            \n",
    "            ylen = np.zeros(201);\n",
    "            phi = np.linspace(0,np.pi/2,201)\n",
    "            for j in range(201):\n",
    "                y[0] = np.sin(phi[j])*np.cos(theta)*np.sqrt(Tc)/np.sqrt(D[0])\n",
    "                y[1] = np.sin(phi[j])*np.sin(theta)*np.sqrt(Tc)/np.sqrt(D[1])\n",
    "                y[2] = np.cos(phi[j])*np.sqrt(Tc)/np.sqrt(D[2])\n",
    "                ylen[j] = np.linalg.norm(y)\n",
    "                \n",
    "            idx = np.argsort(ylen)\n",
    "            phi0 = np.interp(1.0,ylen[idx],phi[idx]);\n",
    "            y[0] = np.sin(phi0)*np.cos(theta)*np.sqrt(Tc)/np.sqrt(D[0])\n",
    "            y[1] = np.sin(phi0)*np.sin(theta)*np.sqrt(Tc)/np.sqrt(D[1])\n",
    "            y[2] = np.cos(phi0)*np.sqrt(Tc)/np.sqrt(D[2])\n",
    "                \n",
    "            mCI[:,i] = np.ndarray.flatten(V*y)\n",
    "    \n",
    "    #Check if points are in the correct hemisphere\n",
    "    mCIbar = np.mean(mCI,axis=1)/np.linalg.norm(np.mean(mCI,axis=1))\n",
    "    if np.arctan2(np.linalg.norm(np.cross(mhat12.T,mCIbar)),np.dot(mhat12.T,mCIbar))>np.pi/2:\n",
    "        mCI *= -1\n",
    "        \n",
    "    return mCI"
   ]
  },
  {
   "cell_type": "markdown",
   "metadata": {},
   "source": [
    "### Example processing\n",
    "#### Import the example data sets and transform to Cartesian coordinates (1 direction per column). Estimate the mean direction via equation (3)."
   ]
  },
  {
   "cell_type": "code",
   "execution_count": 7,
   "metadata": {},
   "outputs": [],
   "source": [
    "file = \"Ao_normal.csv\" #normal polarity directions from Ao et al. (2013)\n",
    "F1 = pd.read_csv(file,header=None).to_numpy()\n",
    "X1 = np.transpose(pmag.dir2cart(F1)) # normal directions in Cartesian coordinates (one direction per column)\n",
    "\n",
    "file = \"Ao_reversed.csv\" #reversed polarity directions from Ao et al. (2013)\n",
    "F2 = pd.read_csv(file,header=None).to_numpy()\n",
    "X2 = -np.transpose(pmag.dir2cart(F2)) # inverted reversed directions in Cartesian coordinates"
   ]
  },
  {
   "cell_type": "markdown",
   "metadata": {},
   "source": [
    "#### Estimate mean directions of data sets and pooled data set"
   ]
  },
  {
   "cell_type": "code",
   "execution_count": 8,
   "metadata": {},
   "outputs": [],
   "source": [
    "n1 = np.shape(X1)[1] #number of observations in first data set\n",
    "n2 = np.shape(X2)[1] #number of observations in second data set\n",
    "n = n1 + n2 #total number of observations\n",
    "\n",
    "X12 = np.hstack((X1,X2)) #form pooled data set\n",
    "\n",
    "mhat1 = np.mean(X1,axis=1)\n",
    "mhat1 /= np.linalg.norm(mhat1) #mean of first data set\n",
    "\n",
    "mhat2 = np.mean(X2,axis=1)\n",
    "mhat2 /= np.linalg.norm(mhat2) #mean of second data set\n",
    "\n",
    "mhat12 = np.mean(X12,axis=1)\n",
    "mhat12 /= np.linalg.norm(mhat12) #mean of pooled data set"
   ]
  },
  {
   "cell_type": "markdown",
   "metadata": {},
   "source": [
    "#### Form $\\hat{M}$ and $\\hat{G}$ for each data set"
   ]
  },
  {
   "cell_type": "code",
   "execution_count": 9,
   "metadata": {},
   "outputs": [],
   "source": [
    "Mhat1 = form_Mhat(mhat1) #Mhat of first data set\n",
    "Ghat1 = form_Ghat(X1,Mhat1) #Ghat of first data set\n",
    "\n",
    "Mhat2 = form_Mhat(mhat2) #Mhat of second data set\n",
    "Ghat2 = form_Ghat(X2,Mhat2) #Ghat of second data set"
   ]
  },
  {
   "cell_type": "markdown",
   "metadata": {},
   "source": [
    "#### Form $\\hat{A}_0$ (equation 8) and find minimum eigenvalue ($\\lambda_{\\textrm{min}}$) and corresponding eigenvector ($\\hat{m}_0$)"
   ]
  },
  {
   "cell_type": "code",
   "execution_count": 10,
   "metadata": {},
   "outputs": [],
   "source": [
    "Ahat = Mhat1.getH()*np.linalg.inv(Ghat1)*Mhat1\n",
    "Ahat += Mhat2.getH()*np.linalg.inv(Ghat2)*Mhat2\n",
    "Ahat *= n\n",
    "\n",
    "D,V = np.linalg.eig(Ahat)\n",
    "idx = np.argmin(D)\n",
    "Lmin = D[idx] #minimum eigenvalue\n",
    "mhat0 = V[:,idx] #eigenvector corresponding to pooled sample mean"
   ]
  },
  {
   "cell_type": "markdown",
   "metadata": {},
   "source": [
    "#### Transform data sets to estimated common mean direction $\\hat{m}_0$"
   ]
  },
  {
   "cell_type": "code",
   "execution_count": 11,
   "metadata": {},
   "outputs": [],
   "source": [
    "Q1 = form_Q(mhat0,mhat1) #rotation matrix for first data set\n",
    "X10 = np.matmul(Q1,X1) #rotated version of first data set\n",
    "\n",
    "Q2 = form_Q(mhat0,mhat2) #rotation matrix for second data set\n",
    "X20 = np.matmul(Q2,X2) #rotated version of second data set"
   ]
  },
  {
   "cell_type": "markdown",
   "metadata": {},
   "source": [
    "### Main bootstrap sequence"
   ]
  },
  {
   "cell_type": "code",
   "execution_count": 12,
   "metadata": {},
   "outputs": [],
   "source": [
    "B = 10000 #number of bootstrap iterations\n",
    "Lmin_b = np.zeros(B) #predefine output array for minimum eigenvalues\n",
    "T_b = np.zeros(B) ##predefine output array for Tb (equation 11)\n",
    "\n",
    "for i in range(B): #loop through boostrap iterations\n",
    "    idx1 = np.random.randint(0,n1,n1) #select observation indicies with replacement\n",
    "    X10_b = np.asarray(X10[:,idx1]) #form bootstrap sample from rotated version of first data set\n",
    "    \n",
    "    mhat10_b = np.mean(X10_b,axis=1) #mean direction of boostrap sample\n",
    "    mhat10_b /= np.linalg.norm(mhat10_b)\n",
    "    mhat10_b = (np.asarray(mhat10_b)).flatten()\n",
    "    Mhat10_b = form_Mhat(mhat10_b) #\\hat{M} for bootstrap sample\n",
    "    Ghat10_b = form_Ghat(X10_b,Mhat10_b) #\\hat{G} for bootstrap sample\n",
    "    \n",
    "    idx2 = np.random.randint(0,n2,n2) #select observation indicies with replacement\n",
    "    X20_b = np.asarray(X20[:,idx2]) #form bootstrap sample from rotated version of second data set\n",
    "    \n",
    "    mhat20_b = np.mean(X20_b,axis=1) #mean direction of boostrap sample\n",
    "    mhat20_b /= np.linalg.norm(mhat20_b)\n",
    "    mhat20_b = (np.asarray(mhat20_b)).flatten()\n",
    "    Mhat20_b = form_Mhat(mhat20_b) #\\hat{M} for bootstrap sample\n",
    "    Ghat20_b = form_Ghat(X20_b,Mhat20_b) #\\hat{G} for bootstrap sample\n",
    "    \n",
    "    Ahat_b = Mhat10_b.getH()*np.linalg.inv(Ghat10_b)*Mhat10_b #bootstrap estimate of \\hat{A}_0 (equation 8)\n",
    "    Ahat_b += Mhat20_b.getH()*np.linalg.inv(Ghat20_b)*Mhat20_b\n",
    "    Ahat_b *= n\n",
    "    \n",
    "    D_b,V_b = np.linalg.eig(Ahat_b) #Eigenvalues and eigenvectors\n",
    "    Lmin_b[i] = np.min(D_b) #minimum eigenvalue for boostrap sample\n",
    "    T_b[i] = np.matmul(np.matmul(np.transpose(mhat0),Ahat_b),mhat0) #Bootstrap T for pooled data (equation 11)"
   ]
  },
  {
   "cell_type": "markdown",
   "metadata": {},
   "source": [
    "#### Main CMDT results"
   ]
  },
  {
   "cell_type": "code",
   "execution_count": 13,
   "metadata": {},
   "outputs": [
    {
     "name": "stdout",
     "output_type": "stream",
     "text": [
      "CMDT value = 8.22\n",
      "CMDT critical value = 12.27\n",
      "CMDT p-value = 0.14\n"
     ]
    }
   ],
   "source": [
    "p = (1+np.sum(Lmin_b>=Lmin))/(B+1) # p-value (step 8 of CMDT, Section 3)\n",
    "# (n.b., if p > 0.05 cannot reject null of common means at alpha = 0.05)\n",
    "\n",
    "alpha = 0.05 #set significance level\n",
    "Lmin_c = np.quantile(Lmin_b,1-alpha) #test critical value\n",
    "# (n.b., if Lmin > Lmin_c reject null of common means at alpha significance level)\n",
    "\n",
    "print(\"CMDT value = {:.2f}\".format(Lmin))\n",
    "print(\"CMDT critical value = {:.2f}\".format(Lmin_c))\n",
    "print(\"CMDT p-value = {:.2f}\".format(p))"
   ]
  },
  {
   "cell_type": "markdown",
   "metadata": {},
   "source": [
    "#### Plot histogram of bootstrap values and compare to test statistic"
   ]
  },
  {
   "cell_type": "code",
   "execution_count": 14,
   "metadata": {},
   "outputs": [
    {
     "data": {
      "image/png": "[encoded data removed]",
      "text/plain": [
       "<Figure size 432x288 with 1 Axes>"
      ]
     },
     "metadata": {
      "needs_background": "light"
     },
     "output_type": "display_data"
    }
   ],
   "source": [
    "plt.figure()\n",
    "plt.hist(Lmin_b,bins=int(np.sqrt(B)),color = \"0.6\", ec=\"0.6\");\n",
    "axes = plt.gca()\n",
    "y_min, y_max = axes.get_ylim()\n",
    "plt.plot([Lmin,Lmin],[y_min,y_max],'--k',label='Test statistic')\n",
    "plt.plot([Lmin_c,Lmin_c],[y_min,y_max],'-k',label='Critical value')\n",
    "plt.ylim([y_min,y_max])\n",
    "x_min, x_max = axes.get_xlim()\n",
    "plt.xlim([0,30])\n",
    "plt.xlabel(r'$\\lambda_{\\rm{min}}^{(b)}$')\n",
    "plt.ylabel('Frequency')\n",
    "plt.minorticks_on()\n",
    "plt.rcParams.update({'font.size': 12})\n",
    "plt.legend();"
   ]
  },
  {
   "cell_type": "markdown",
   "metadata": {},
   "source": [
    "## Test direction of interest (in this case GAD) against common mean of two groups\n",
    "\n",
    "#### N.b. should only be calculated if null hypothesis of common mean direction cannot be rejected"
   ]
  },
  {
   "cell_type": "code",
   "execution_count": 15,
   "metadata": {},
   "outputs": [
    {
     "name": "stdout",
     "output_type": "stream",
     "text": [
      "95% confidence region threshold T = 20.43\n",
      "Tested direction T = 156.01\n"
     ]
    }
   ],
   "source": [
    "T_c = np.quantile(T_b,1-alpha) #boundary value for confidence region on common mean direction\n",
    "m = np.transpose(pmag.dir2cart((0.0,ipmag.inc_from_lat(40.15)))) #GAD direction in Cartesian coordinates\n",
    "T_m = np.matmul(np.matmul(np.transpose(m),Ahat),m) #T-value for m-direction\n",
    "print(\"95% confidence region threshold T = {:.2f}\".format(T_c))\n",
    "print(\"Tested direction T = {:.2f}\".format(np.squeeze(np.asarray(T_m))))\n",
    "#If T_m <= T_c then direction of interest is consistent with the common mean direction at alpha significance level"
   ]
  },
  {
   "cell_type": "markdown",
   "metadata": {},
   "source": [
    "#### Plot histogram of bootstrap values and compare to test statistic (see Figure 6(a) in manuscript)"
   ]
  },
  {
   "cell_type": "code",
   "execution_count": 16,
   "metadata": {},
   "outputs": [
    {
     "data": {
      "image/png": "[encoded data removed]",
      "text/plain": [
       "<Figure size 432x288 with 1 Axes>"
      ]
     },
     "metadata": {
      "needs_background": "light"
     },
     "output_type": "display_data"
    }
   ],
   "source": [
    "plt.figure()\n",
    "plt.hist(Lmin_b,bins=int(np.sqrt(B)),color = \"0.6\", ec=\"0.6\");\n",
    "axes = plt.gca()\n",
    "y_min, y_max = axes.get_ylim()\n",
    "plt.plot(np.squeeze(np.asarray(T_m))*np.ones(2),[y_min,y_max],'--k',label='Test statistic')\n",
    "plt.plot(T_c*np.ones(2),[y_min,y_max],'-k',label='Critical value')\n",
    "plt.ylim([y_min,y_max])\n",
    "x_min, x_max = axes.get_xlim()\n",
    "plt.xlim([0,160])\n",
    "plt.xlabel(r'$T_0^{(b)}$')\n",
    "plt.ylabel('Frequency')\n",
    "plt.minorticks_on()\n",
    "plt.rcParams.update({'font.size': 12})\n",
    "plt.legend();"
   ]
  },
  {
   "cell_type": "markdown",
   "metadata": {},
   "source": [
    "#### Generate points along boundary of 95% confidence region and plot (see Figure 6(b) in manuscript)"
   ]
  },
  {
   "cell_type": "code",
   "execution_count": 17,
   "metadata": {},
   "outputs": [
    {
     "data": {
      "image/png": "[encoded data removed]",
      "text/plain": [
       "<Figure size 432x288 with 1 Axes>"
      ]
     },
     "metadata": {
      "needs_background": "light"
     },
     "output_type": "display_data"
    }
   ],
   "source": [
    "mCI = find_CMDT_CR(Ahat,T_c,mhat12) #generate 201 points along boundary\n",
    "DIc = pmag.cart2dir(np.transpose(mCI)) #convert to dec and inc for plotting \n",
    "X1c = pmag.cart2dir(np.transpose(X1)) #convert to dec and inc for plotting\n",
    "X2c = pmag.cart2dir(np.transpose(-X2)) #convert to dec and inc for plotting\n",
    "\n",
    "ipmag.plot_net(1)\n",
    "ipmag.plot_di(di_block=X1c,color='black',edge='black')\n",
    "ipmag.plot_di(di_block=X2c,color='black',edge='black')\n",
    "ipmag.plot_di(di_block=DIc,color='red',edge='red',marker='.',markersize=2)\n",
    "ipmag.plot_di(dec = 0, inc = ipmag.inc_from_lat(40.15),marker='s',color='c')"
   ]
  }
 ],
 "metadata": {
  "kernelspec": {
   "display_name": "Python 3",
   "language": "python",
   "name": "python3"
  },
  "language_info": {
   "codemirror_mode": {
    "name": "ipython",
    "version": 3
   },
   "file_extension": ".py",
   "mimetype": "text/x-python",
   "name": "python",
   "nbconvert_exporter": "python",
   "pygments_lexer": "ipython3",
   "version": "3.8.3"
  }
 },
 "nbformat": 4,
 "nbformat_minor": 2
}
